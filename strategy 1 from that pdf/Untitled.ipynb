{
 "cells": [
  {
   "cell_type": "code",
   "execution_count": 49,
   "id": "0b4f5e99",
   "metadata": {},
   "outputs": [
    {
     "data": {
      "text/plain": [
       "0      57.828\n",
       "1      56.268\n",
       "2      56.898\n",
       "3      57.528\n",
       "4      57.637\n",
       "5      56.808\n",
       "6      48.598\n",
       "7      52.187\n",
       "8      53.467\n",
       "9      56.608\n",
       "10     58.288\n",
       "11     67.388\n",
       "12     63.538\n",
       "13     68.528\n",
       "14     70.877\n",
       "15     74.737\n",
       "16     77.628\n",
       "17     76.108\n",
       "18     84.610\n",
       "19     94.797\n",
       "20     96.257\n",
       "21     88.418\n",
       "22     84.757\n",
       "23     85.317\n",
       "24     88.118\n",
       "25     85.068\n",
       "26     77.847\n",
       "27     62.987\n",
       "28     74.888\n",
       "29     77.498\n",
       "30     73.828\n",
       "31     76.487\n",
       "32     84.697\n",
       "33     86.698\n",
       "34     87.507\n",
       "35     98.698\n",
       "36    107.487\n",
       "37     96.998\n",
       "38    108.595\n",
       "39    109.718\n",
       "40    114.857\n",
       "41    114.226\n",
       "42    111.937\n",
       "Name: Open, dtype: float64"
      ]
     },
     "execution_count": 49,
     "metadata": {},
     "output_type": "execute_result"
    }
   ],
   "source": [
    "from matplotlib import pyplot as plt\n",
    "import pandas as pd\n",
    "\n",
    "stonks = []\n",
    "stonkNames = []\n",
    "\n",
    "import glob\n",
    "for file in glob.glob(\"*.csv\"):\n",
    "    stonkNames.append(file[0:-4])\n",
    "    stonks.append(pd.read_csv(file)[\"Open\"])\n",
    "\n",
    "testStonk = stonks[0]\n",
    "\n",
    "testStonk"
   ]
  },
  {
   "cell_type": "code",
   "execution_count": 70,
   "id": "76d2a753",
   "metadata": {},
   "outputs": [
    {
     "name": "stdout",
     "output_type": "stream",
     "text": [
      "1\n",
      "13\n",
      "1\n",
      "13\n",
      "1\n",
      "13\n"
     ]
    }
   ],
   "source": [
    "T = 12   # number of months\n",
    "S = 30    # month to start at, inclusive\n",
    "\n",
    "stonkRankings = [];\n",
    "\n",
    "for stonk in stonks:\n",
    "    R = (stonk / stonk.shift(1)) - 1\n",
    "    print(R.size - (S+T))\n",
    "    print(R.size - S)\n",
    "    R = R[R.size - (S+T):R.size - S]\n",
    "    R = R.reset_index(drop=True)\n",
    "    rMean = R.sum() / T\n",
    "    sigma = R.std()\n",
    "    rRiskAdj = rMean / sigma\n",
    "\n",
    "    stonkRankings.append(rRiskAdj)"
   ]
  },
  {
   "cell_type": "code",
   "execution_count": 65,
   "id": "340d6330",
   "metadata": {},
   "outputs": [
    {
     "name": "stdout",
     "output_type": "stream",
     "text": [
      "sbux 0.1414002440178735\n",
      "twtr 0.15574331583403148\n",
      "wmt -0.0768627561682624\n"
     ]
    }
   ],
   "source": [
    "for i in range(len(stonks)):\n",
    "    print(stonkNames[i] + \" \" + str(stonkRankings[i]))"
   ]
  },
  {
   "cell_type": "code",
   "execution_count": 73,
   "id": "45e46688",
   "metadata": {},
   "outputs": [
    {
     "name": "stdout",
     "output_type": "stream",
     "text": [
      "sbux 1.6334491010973615\n",
      "twtr 2.040928182061899\n",
      "wmt 1.4579348608257636\n"
     ]
    }
   ],
   "source": [
    "for i in range(len(stonks)):\n",
    "    print(stonkNames[i] + \" \" + str(stonks[i].iloc[-1] / stonks[i][13]))"
   ]
  },
  {
   "cell_type": "code",
   "execution_count": null,
   "id": "5fb0caf2",
   "metadata": {},
   "outputs": [],
   "source": []
  }
 ],
 "metadata": {
  "kernelspec": {
   "display_name": "Python 3",
   "language": "python",
   "name": "python3"
  },
  "language_info": {
   "codemirror_mode": {
    "name": "ipython",
    "version": 3
   },
   "file_extension": ".py",
   "mimetype": "text/x-python",
   "name": "python",
   "nbconvert_exporter": "python",
   "pygments_lexer": "ipython3",
   "version": "3.8.8"
  }
 },
 "nbformat": 4,
 "nbformat_minor": 5
}
